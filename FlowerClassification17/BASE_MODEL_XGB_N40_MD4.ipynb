{
 "cells": [
  {
   "cell_type": "code",
   "execution_count": 1,
   "metadata": {},
   "outputs": [],
   "source": [
    "import pandas as pd\n",
    "import numpy as np\n",
    "import matplotlib.pyplot as plt\n",
    "import seaborn as sns\n",
    "pd.set_option('display.max_rows',None)"
   ]
  },
  {
   "cell_type": "code",
   "execution_count": 2,
   "metadata": {},
   "outputs": [],
   "source": [
    "import re\n",
    "from datetime import timedelta\n",
    "from sklearn.preprocessing import LabelEncoder\n",
    "from sklearn.metrics import log_loss, accuracy_score"
   ]
  },
  {
   "cell_type": "code",
   "execution_count": 3,
   "metadata": {},
   "outputs": [],
   "source": [
    "from sklearn.ensemble import GradientBoostingClassifier, RandomForestClassifier, AdaBoostClassifier, ExtraTreesClassifier\n",
    "from sklearn.neighbors import KNeighborsClassifier\n",
    "from sklearn.tree import DecisionTreeClassifier, ExtraTreeClassifier\n",
    "from sklearn.linear_model import LogisticRegression\n",
    "from sklearn.neural_network import MLPClassifier\n",
    "from sklearn.svm import SVC\n",
    "from xgboost import XGBClassifier, plot_importance\n",
    "from lightgbm import LGBMClassifier"
   ]
  },
  {
   "cell_type": "code",
   "execution_count": 4,
   "metadata": {},
   "outputs": [],
   "source": [
    "from utils import (load_dataset,save_dataset)"
   ]
  },
  {
   "cell_type": "code",
   "execution_count": 5,
   "metadata": {},
   "outputs": [
    {
     "name": "stdout",
     "output_type": "stream",
     "text": [
      "(12666, 7)\n",
      "(29555, 6)\n"
     ]
    }
   ],
   "source": [
    "df_train = load_dataset('Train')\n",
    "df_test = load_dataset('Test')\n",
    "#df_sub = load_dataset('Sample_Submission')\n",
    "print(df_train.shape)\n",
    "print(df_test.shape)"
   ]
  },
  {
   "cell_type": "code",
   "execution_count": 6,
   "metadata": {},
   "outputs": [
    {
     "name": "stdout",
     "output_type": "stream",
     "text": [
      "<class 'pandas.core.frame.DataFrame'>\n",
      "RangeIndex: 12666 entries, 0 to 12665\n",
      "Data columns (total 7 columns):\n",
      " #   Column         Non-Null Count  Dtype  \n",
      "---  ------         --------------  -----  \n",
      " 0   Area_Code      12666 non-null  int64  \n",
      " 1   Locality_Code  12666 non-null  int64  \n",
      " 2   Region_Code    12666 non-null  int64  \n",
      " 3   Height         12666 non-null  float64\n",
      " 4   Diameter       12666 non-null  float64\n",
      " 5   Class          12666 non-null  int64  \n",
      " 6   Species        12666 non-null  int64  \n",
      "dtypes: float64(2), int64(5)\n",
      "memory usage: 692.8 KB\n"
     ]
    }
   ],
   "source": [
    "df_train.info()"
   ]
  },
  {
   "cell_type": "code",
   "execution_count": 7,
   "metadata": {},
   "outputs": [
    {
     "data": {
      "text/plain": [
       "Area_Code        0\n",
       "Locality_Code    0\n",
       "Region_Code      0\n",
       "Height           0\n",
       "Diameter         0\n",
       "Class            0\n",
       "Species          0\n",
       "dtype: int64"
      ]
     },
     "execution_count": 7,
     "metadata": {},
     "output_type": "execute_result"
    }
   ],
   "source": [
    "df_train.isnull().sum()"
   ]
  },
  {
   "cell_type": "code",
   "execution_count": 8,
   "metadata": {},
   "outputs": [
    {
     "data": {
      "text/plain": [
       "Area_Code        0\n",
       "Locality_Code    0\n",
       "Region_Code      0\n",
       "Height           0\n",
       "Diameter         0\n",
       "Species          0\n",
       "dtype: int64"
      ]
     },
     "execution_count": 8,
     "metadata": {},
     "output_type": "execute_result"
    }
   ],
   "source": [
    "df_test.isnull().sum()"
   ]
  },
  {
   "cell_type": "code",
   "execution_count": 9,
   "metadata": {},
   "outputs": [
    {
     "data": {
      "text/html": [
       "<div>\n",
       "<style scoped>\n",
       "    .dataframe tbody tr th:only-of-type {\n",
       "        vertical-align: middle;\n",
       "    }\n",
       "\n",
       "    .dataframe tbody tr th {\n",
       "        vertical-align: top;\n",
       "    }\n",
       "\n",
       "    .dataframe thead th {\n",
       "        text-align: right;\n",
       "    }\n",
       "</style>\n",
       "<table border=\"1\" class=\"dataframe\">\n",
       "  <thead>\n",
       "    <tr style=\"text-align: right;\">\n",
       "      <th></th>\n",
       "      <th>Area_Code</th>\n",
       "      <th>Locality_Code</th>\n",
       "      <th>Region_Code</th>\n",
       "      <th>Height</th>\n",
       "      <th>Diameter</th>\n",
       "      <th>Class</th>\n",
       "      <th>Species</th>\n",
       "    </tr>\n",
       "  </thead>\n",
       "  <tbody>\n",
       "    <tr>\n",
       "      <th>0</th>\n",
       "      <td>4694</td>\n",
       "      <td>17</td>\n",
       "      <td>1609</td>\n",
       "      <td>3.0</td>\n",
       "      <td>5.0</td>\n",
       "      <td>7</td>\n",
       "      <td>48</td>\n",
       "    </tr>\n",
       "    <tr>\n",
       "      <th>1</th>\n",
       "      <td>781</td>\n",
       "      <td>7</td>\n",
       "      <td>1380</td>\n",
       "      <td>4.0</td>\n",
       "      <td>17.0</td>\n",
       "      <td>2</td>\n",
       "      <td>54</td>\n",
       "    </tr>\n",
       "    <tr>\n",
       "      <th>2</th>\n",
       "      <td>21014</td>\n",
       "      <td>6</td>\n",
       "      <td>1122</td>\n",
       "      <td>3.0</td>\n",
       "      <td>11.0</td>\n",
       "      <td>1</td>\n",
       "      <td>22</td>\n",
       "    </tr>\n",
       "    <tr>\n",
       "      <th>3</th>\n",
       "      <td>7326</td>\n",
       "      <td>6</td>\n",
       "      <td>556</td>\n",
       "      <td>3.0</td>\n",
       "      <td>34.0</td>\n",
       "      <td>7</td>\n",
       "      <td>25</td>\n",
       "    </tr>\n",
       "    <tr>\n",
       "      <th>4</th>\n",
       "      <td>13122</td>\n",
       "      <td>17</td>\n",
       "      <td>1752</td>\n",
       "      <td>5.0</td>\n",
       "      <td>16.0</td>\n",
       "      <td>2</td>\n",
       "      <td>128</td>\n",
       "    </tr>\n",
       "  </tbody>\n",
       "</table>\n",
       "</div>"
      ],
      "text/plain": [
       "   Area_Code  Locality_Code  Region_Code  Height  Diameter  Class  Species\n",
       "0       4694             17         1609     3.0       5.0      7       48\n",
       "1        781              7         1380     4.0      17.0      2       54\n",
       "2      21014              6         1122     3.0      11.0      1       22\n",
       "3       7326              6          556     3.0      34.0      7       25\n",
       "4      13122             17         1752     5.0      16.0      2      128"
      ]
     },
     "execution_count": 9,
     "metadata": {},
     "output_type": "execute_result"
    }
   ],
   "source": [
    "df_train.head()"
   ]
  },
  {
   "cell_type": "code",
   "execution_count": 10,
   "metadata": {},
   "outputs": [],
   "source": [
    "df_test['Class'] = -1\n",
    "df_full = pd.concat([df_train,df_test],axis=0,ignore_index=True)"
   ]
  },
  {
   "cell_type": "code",
   "execution_count": 11,
   "metadata": {},
   "outputs": [
    {
     "data": {
      "text/plain": [
       "42221"
      ]
     },
     "execution_count": 11,
     "metadata": {},
     "output_type": "execute_result"
    }
   ],
   "source": [
    "len(df_full)"
   ]
  },
  {
   "cell_type": "code",
   "execution_count": 12,
   "metadata": {},
   "outputs": [],
   "source": [
    "df_full['Area_Code_Locality_Code'] = df_full['Area_Code'].astype(str) + df_full['Locality_Code'].astype(str)\n",
    "df_full['Region_Code_Locality_Code'] = df_full['Region_Code'].astype(str) + df_full['Locality_Code'].astype(str)\n",
    "df_full['Area_Code_Region_Code'] = df_full['Area_Code'].astype(str) + df_full['Region_Code'].astype(str)"
   ]
  },
  {
   "cell_type": "code",
   "execution_count": 13,
   "metadata": {},
   "outputs": [],
   "source": [
    "def create_maps_and_add_cols(df_data):\n",
    "    df = df_data.copy()\n",
    "    ops = ['min', 'max','mean','std']\n",
    "    \n",
    "    key_list = ['Area_Code_Locality_Code','Region_Code_Locality_Code','Area_Code_Region_Code']\n",
    "    var_list = ['Height','Diameter']\n",
    "    \n",
    "    for key in key_list:\n",
    "        for var in var_list:\n",
    "            df_map = df.groupby(key)[var].agg(ops)\n",
    "            df_map.reset_index(inplace=True)\n",
    "            df_map.set_index(key,inplace=True)\n",
    "            df_map.columns = [key + '_' + var + '_' + x for x in ops]\n",
    "            df_map.reset_index(inplace=True)\n",
    "            df = pd.merge(df,df_map,how='left',on=key)\n",
    "    df['HeightDiameter'] = df['Height'] / df['Diameter']\n",
    "    df['HeightS2'] = df['Height']*df['Height']\n",
    "    df['HeightS2Diameter'] = df['HeightS2'] / df['Diameter']\n",
    "    \n",
    "    return df"
   ]
  },
  {
   "cell_type": "code",
   "execution_count": 14,
   "metadata": {},
   "outputs": [
    {
     "data": {
      "text/html": [
       "<div>\n",
       "<style scoped>\n",
       "    .dataframe tbody tr th:only-of-type {\n",
       "        vertical-align: middle;\n",
       "    }\n",
       "\n",
       "    .dataframe tbody tr th {\n",
       "        vertical-align: top;\n",
       "    }\n",
       "\n",
       "    .dataframe thead th {\n",
       "        text-align: right;\n",
       "    }\n",
       "</style>\n",
       "<table border=\"1\" class=\"dataframe\">\n",
       "  <thead>\n",
       "    <tr style=\"text-align: right;\">\n",
       "      <th></th>\n",
       "      <th>Area_Code</th>\n",
       "      <th>Locality_Code</th>\n",
       "      <th>Region_Code</th>\n",
       "      <th>Height</th>\n",
       "      <th>Diameter</th>\n",
       "      <th>Class</th>\n",
       "      <th>Species</th>\n",
       "      <th>Area_Code_Locality_Code</th>\n",
       "      <th>Region_Code_Locality_Code</th>\n",
       "      <th>Area_Code_Region_Code</th>\n",
       "      <th>...</th>\n",
       "      <th>Area_Code_Region_Code_Height_max</th>\n",
       "      <th>Area_Code_Region_Code_Height_mean</th>\n",
       "      <th>Area_Code_Region_Code_Height_std</th>\n",
       "      <th>Area_Code_Region_Code_Diameter_min</th>\n",
       "      <th>Area_Code_Region_Code_Diameter_max</th>\n",
       "      <th>Area_Code_Region_Code_Diameter_mean</th>\n",
       "      <th>Area_Code_Region_Code_Diameter_std</th>\n",
       "      <th>HeightDiameter</th>\n",
       "      <th>HeightS2</th>\n",
       "      <th>HeightS2Diameter</th>\n",
       "    </tr>\n",
       "  </thead>\n",
       "  <tbody>\n",
       "    <tr>\n",
       "      <th>0</th>\n",
       "      <td>4694</td>\n",
       "      <td>17</td>\n",
       "      <td>1609</td>\n",
       "      <td>3.0</td>\n",
       "      <td>5.0</td>\n",
       "      <td>7</td>\n",
       "      <td>48</td>\n",
       "      <td>469417</td>\n",
       "      <td>160917</td>\n",
       "      <td>46941609</td>\n",
       "      <td>...</td>\n",
       "      <td>12.5</td>\n",
       "      <td>4.051282</td>\n",
       "      <td>2.229571</td>\n",
       "      <td>1.0</td>\n",
       "      <td>100.0</td>\n",
       "      <td>20.102564</td>\n",
       "      <td>15.862559</td>\n",
       "      <td>0.600000</td>\n",
       "      <td>9.0</td>\n",
       "      <td>1.800000</td>\n",
       "    </tr>\n",
       "    <tr>\n",
       "      <th>1</th>\n",
       "      <td>781</td>\n",
       "      <td>7</td>\n",
       "      <td>1380</td>\n",
       "      <td>4.0</td>\n",
       "      <td>17.0</td>\n",
       "      <td>2</td>\n",
       "      <td>54</td>\n",
       "      <td>7817</td>\n",
       "      <td>13807</td>\n",
       "      <td>7811380</td>\n",
       "      <td>...</td>\n",
       "      <td>4.0</td>\n",
       "      <td>4.000000</td>\n",
       "      <td>NaN</td>\n",
       "      <td>17.0</td>\n",
       "      <td>17.0</td>\n",
       "      <td>17.000000</td>\n",
       "      <td>NaN</td>\n",
       "      <td>0.235294</td>\n",
       "      <td>16.0</td>\n",
       "      <td>0.941176</td>\n",
       "    </tr>\n",
       "    <tr>\n",
       "      <th>2</th>\n",
       "      <td>21014</td>\n",
       "      <td>6</td>\n",
       "      <td>1122</td>\n",
       "      <td>3.0</td>\n",
       "      <td>11.0</td>\n",
       "      <td>1</td>\n",
       "      <td>22</td>\n",
       "      <td>210146</td>\n",
       "      <td>11226</td>\n",
       "      <td>210141122</td>\n",
       "      <td>...</td>\n",
       "      <td>3.0</td>\n",
       "      <td>3.000000</td>\n",
       "      <td>NaN</td>\n",
       "      <td>11.0</td>\n",
       "      <td>11.0</td>\n",
       "      <td>11.000000</td>\n",
       "      <td>NaN</td>\n",
       "      <td>0.272727</td>\n",
       "      <td>9.0</td>\n",
       "      <td>0.818182</td>\n",
       "    </tr>\n",
       "    <tr>\n",
       "      <th>3</th>\n",
       "      <td>7326</td>\n",
       "      <td>6</td>\n",
       "      <td>556</td>\n",
       "      <td>3.0</td>\n",
       "      <td>34.0</td>\n",
       "      <td>7</td>\n",
       "      <td>25</td>\n",
       "      <td>73266</td>\n",
       "      <td>5566</td>\n",
       "      <td>7326556</td>\n",
       "      <td>...</td>\n",
       "      <td>3.0</td>\n",
       "      <td>3.000000</td>\n",
       "      <td>NaN</td>\n",
       "      <td>34.0</td>\n",
       "      <td>34.0</td>\n",
       "      <td>34.000000</td>\n",
       "      <td>NaN</td>\n",
       "      <td>0.088235</td>\n",
       "      <td>9.0</td>\n",
       "      <td>0.264706</td>\n",
       "    </tr>\n",
       "    <tr>\n",
       "      <th>4</th>\n",
       "      <td>13122</td>\n",
       "      <td>17</td>\n",
       "      <td>1752</td>\n",
       "      <td>5.0</td>\n",
       "      <td>16.0</td>\n",
       "      <td>2</td>\n",
       "      <td>128</td>\n",
       "      <td>1312217</td>\n",
       "      <td>175217</td>\n",
       "      <td>131221752</td>\n",
       "      <td>...</td>\n",
       "      <td>5.0</td>\n",
       "      <td>5.000000</td>\n",
       "      <td>NaN</td>\n",
       "      <td>16.0</td>\n",
       "      <td>16.0</td>\n",
       "      <td>16.000000</td>\n",
       "      <td>NaN</td>\n",
       "      <td>0.312500</td>\n",
       "      <td>25.0</td>\n",
       "      <td>1.562500</td>\n",
       "    </tr>\n",
       "  </tbody>\n",
       "</table>\n",
       "<p>5 rows × 37 columns</p>\n",
       "</div>"
      ],
      "text/plain": [
       "   Area_Code  Locality_Code  Region_Code  Height  Diameter  Class  Species  \\\n",
       "0       4694             17         1609     3.0       5.0      7       48   \n",
       "1        781              7         1380     4.0      17.0      2       54   \n",
       "2      21014              6         1122     3.0      11.0      1       22   \n",
       "3       7326              6          556     3.0      34.0      7       25   \n",
       "4      13122             17         1752     5.0      16.0      2      128   \n",
       "\n",
       "  Area_Code_Locality_Code Region_Code_Locality_Code Area_Code_Region_Code  \\\n",
       "0                  469417                    160917              46941609   \n",
       "1                    7817                     13807               7811380   \n",
       "2                  210146                     11226             210141122   \n",
       "3                   73266                      5566               7326556   \n",
       "4                 1312217                    175217             131221752   \n",
       "\n",
       "   ...  Area_Code_Region_Code_Height_max  Area_Code_Region_Code_Height_mean  \\\n",
       "0  ...                              12.5                           4.051282   \n",
       "1  ...                               4.0                           4.000000   \n",
       "2  ...                               3.0                           3.000000   \n",
       "3  ...                               3.0                           3.000000   \n",
       "4  ...                               5.0                           5.000000   \n",
       "\n",
       "   Area_Code_Region_Code_Height_std  Area_Code_Region_Code_Diameter_min  \\\n",
       "0                          2.229571                                 1.0   \n",
       "1                               NaN                                17.0   \n",
       "2                               NaN                                11.0   \n",
       "3                               NaN                                34.0   \n",
       "4                               NaN                                16.0   \n",
       "\n",
       "   Area_Code_Region_Code_Diameter_max  Area_Code_Region_Code_Diameter_mean  \\\n",
       "0                               100.0                            20.102564   \n",
       "1                                17.0                            17.000000   \n",
       "2                                11.0                            11.000000   \n",
       "3                                34.0                            34.000000   \n",
       "4                                16.0                            16.000000   \n",
       "\n",
       "   Area_Code_Region_Code_Diameter_std  HeightDiameter  HeightS2  \\\n",
       "0                           15.862559        0.600000       9.0   \n",
       "1                                 NaN        0.235294      16.0   \n",
       "2                                 NaN        0.272727       9.0   \n",
       "3                                 NaN        0.088235       9.0   \n",
       "4                                 NaN        0.312500      25.0   \n",
       "\n",
       "   HeightS2Diameter  \n",
       "0          1.800000  \n",
       "1          0.941176  \n",
       "2          0.818182  \n",
       "3          0.264706  \n",
       "4          1.562500  \n",
       "\n",
       "[5 rows x 37 columns]"
      ]
     },
     "execution_count": 14,
     "metadata": {},
     "output_type": "execute_result"
    }
   ],
   "source": [
    "df_full_treated = create_maps_and_add_cols(df_full)\n",
    "df_full_treated.head()"
   ]
  },
  {
   "cell_type": "code",
   "execution_count": 15,
   "metadata": {},
   "outputs": [
    {
     "data": {
      "text/plain": [
       "Area_Code                                      0\n",
       "Locality_Code                                  0\n",
       "Region_Code                                    0\n",
       "Height                                         0\n",
       "Diameter                                       0\n",
       "Class                                          0\n",
       "Species                                        0\n",
       "Area_Code_Locality_Code                        0\n",
       "Region_Code_Locality_Code                      0\n",
       "Area_Code_Region_Code                          0\n",
       "Area_Code_Locality_Code_Height_min             0\n",
       "Area_Code_Locality_Code_Height_max             0\n",
       "Area_Code_Locality_Code_Height_mean            0\n",
       "Area_Code_Locality_Code_Height_std         28723\n",
       "Area_Code_Locality_Code_Diameter_min           0\n",
       "Area_Code_Locality_Code_Diameter_max           0\n",
       "Area_Code_Locality_Code_Diameter_mean          0\n",
       "Area_Code_Locality_Code_Diameter_std       28723\n",
       "Region_Code_Locality_Code_Height_min           0\n",
       "Region_Code_Locality_Code_Height_max           0\n",
       "Region_Code_Locality_Code_Height_mean          0\n",
       "Region_Code_Locality_Code_Height_std         210\n",
       "Region_Code_Locality_Code_Diameter_min         0\n",
       "Region_Code_Locality_Code_Diameter_max         0\n",
       "Region_Code_Locality_Code_Diameter_mean        0\n",
       "Region_Code_Locality_Code_Diameter_std       210\n",
       "Area_Code_Region_Code_Height_min               0\n",
       "Area_Code_Region_Code_Height_max               0\n",
       "Area_Code_Region_Code_Height_mean              0\n",
       "Area_Code_Region_Code_Height_std           29503\n",
       "Area_Code_Region_Code_Diameter_min             0\n",
       "Area_Code_Region_Code_Diameter_max             0\n",
       "Area_Code_Region_Code_Diameter_mean            0\n",
       "Area_Code_Region_Code_Diameter_std         29503\n",
       "HeightDiameter                              1316\n",
       "HeightS2                                       0\n",
       "HeightS2Diameter                            1316\n",
       "dtype: int64"
      ]
     },
     "execution_count": 15,
     "metadata": {},
     "output_type": "execute_result"
    }
   ],
   "source": [
    "df_full_treated.isnull().sum()"
   ]
  },
  {
   "cell_type": "code",
   "execution_count": 16,
   "metadata": {},
   "outputs": [
    {
     "data": {
      "text/plain": [
       "Index(['Area_Code', 'Locality_Code', 'Region_Code', 'Height', 'Diameter',\n",
       "       'Class', 'Species', 'Area_Code_Locality_Code',\n",
       "       'Region_Code_Locality_Code', 'Area_Code_Region_Code',\n",
       "       'Area_Code_Locality_Code_Height_min',\n",
       "       'Area_Code_Locality_Code_Height_max',\n",
       "       'Area_Code_Locality_Code_Height_mean',\n",
       "       'Area_Code_Locality_Code_Height_std',\n",
       "       'Area_Code_Locality_Code_Diameter_min',\n",
       "       'Area_Code_Locality_Code_Diameter_max',\n",
       "       'Area_Code_Locality_Code_Diameter_mean',\n",
       "       'Area_Code_Locality_Code_Diameter_std',\n",
       "       'Region_Code_Locality_Code_Height_min',\n",
       "       'Region_Code_Locality_Code_Height_max',\n",
       "       'Region_Code_Locality_Code_Height_mean',\n",
       "       'Region_Code_Locality_Code_Height_std',\n",
       "       'Region_Code_Locality_Code_Diameter_min',\n",
       "       'Region_Code_Locality_Code_Diameter_max',\n",
       "       'Region_Code_Locality_Code_Diameter_mean',\n",
       "       'Region_Code_Locality_Code_Diameter_std',\n",
       "       'Area_Code_Region_Code_Height_min', 'Area_Code_Region_Code_Height_max',\n",
       "       'Area_Code_Region_Code_Height_mean', 'Area_Code_Region_Code_Height_std',\n",
       "       'Area_Code_Region_Code_Diameter_min',\n",
       "       'Area_Code_Region_Code_Diameter_max',\n",
       "       'Area_Code_Region_Code_Diameter_mean',\n",
       "       'Area_Code_Region_Code_Diameter_std', 'HeightDiameter', 'HeightS2',\n",
       "       'HeightS2Diameter'],\n",
       "      dtype='object')"
      ]
     },
     "execution_count": 16,
     "metadata": {},
     "output_type": "execute_result"
    }
   ],
   "source": [
    "df_full_treated.columns"
   ]
  },
  {
   "cell_type": "code",
   "execution_count": 17,
   "metadata": {},
   "outputs": [],
   "source": [
    "train_cols = [\n",
    "    'Area_Code',\n",
    "    'Locality_Code',\n",
    "    'Region_Code',\n",
    "    'Height',\n",
    "    'Diameter',\n",
    "       #'Class',\n",
    "    'Species',\n",
    "    #'Area_Code_Locality_Code',\n",
    "       #'Region_Code_Locality_Code',\n",
    "    #'Area_Code_Region_Code',\n",
    "       'Area_Code_Locality_Code_Height_min',\n",
    "       'Area_Code_Locality_Code_Height_max',\n",
    "       'Area_Code_Locality_Code_Height_mean',\n",
    "       'Area_Code_Locality_Code_Height_std',\n",
    "       'Area_Code_Locality_Code_Diameter_min',\n",
    "       'Area_Code_Locality_Code_Diameter_max',\n",
    "       'Area_Code_Locality_Code_Diameter_mean',\n",
    "       'Area_Code_Locality_Code_Diameter_std',\n",
    "       'Region_Code_Locality_Code_Height_min',\n",
    "       'Region_Code_Locality_Code_Height_max',\n",
    "       'Region_Code_Locality_Code_Height_mean',\n",
    "       'Region_Code_Locality_Code_Height_std',\n",
    "       'Region_Code_Locality_Code_Diameter_min',\n",
    "       'Region_Code_Locality_Code_Diameter_max',\n",
    "       'Region_Code_Locality_Code_Diameter_mean',\n",
    "       'Region_Code_Locality_Code_Diameter_std',\n",
    "       'Area_Code_Region_Code_Height_min',\n",
    "    'Area_Code_Region_Code_Height_max',\n",
    "       'Area_Code_Region_Code_Height_mean',\n",
    "    'Area_Code_Region_Code_Height_std',\n",
    "       'Area_Code_Region_Code_Diameter_min',\n",
    "       'Area_Code_Region_Code_Diameter_max',\n",
    "       'Area_Code_Region_Code_Diameter_mean',\n",
    "       'Area_Code_Region_Code_Diameter_std',\n",
    "    #'HeightDiameter',\n",
    "    #'HeightS2',\n",
    "    #'HeightS2Diameter'\n",
    "    \n",
    "]\n",
    "target = 'Class'"
   ]
  },
  {
   "cell_type": "code",
   "execution_count": 18,
   "metadata": {},
   "outputs": [],
   "source": [
    "df_train_treated = df_full_treated[df_full_treated[target]!=-1].copy()\n",
    "df_test_treated = df_full_treated[df_full_treated[target]==-1].copy()"
   ]
  },
  {
   "cell_type": "code",
   "execution_count": 19,
   "metadata": {},
   "outputs": [],
   "source": [
    "model = XGBClassifier(random_state=0,n_estimators=40)\n",
    "#model = XGBClassifier(random_state=0,n_estimators=100)\n",
    "#model = LGBMClassifier(random_state=0)"
   ]
  },
  {
   "cell_type": "code",
   "execution_count": 20,
   "metadata": {},
   "outputs": [
    {
     "data": {
      "text/plain": [
       "LGBMClassifier(random_state=0)"
      ]
     },
     "execution_count": 20,
     "metadata": {},
     "output_type": "execute_result"
    }
   ],
   "source": [
    "model.fit(df_train_treated[train_cols],df_train_treated[target])"
   ]
  },
  {
   "cell_type": "code",
   "execution_count": 21,
   "metadata": {},
   "outputs": [],
   "source": [
    "#plot_importance(model)"
   ]
  },
  {
   "cell_type": "code",
   "execution_count": 22,
   "metadata": {},
   "outputs": [],
   "source": [
    "y_pred_train = model.predict(df_train_treated[train_cols])"
   ]
  },
  {
   "cell_type": "code",
   "execution_count": 23,
   "metadata": {},
   "outputs": [
    {
     "data": {
      "text/plain": [
       "0.8420180009474183"
      ]
     },
     "execution_count": 23,
     "metadata": {},
     "output_type": "execute_result"
    }
   ],
   "source": [
    "accuracy_score(df_train_treated[target],y_pred_train)"
   ]
  },
  {
   "cell_type": "code",
   "execution_count": 24,
   "metadata": {},
   "outputs": [],
   "source": [
    "y_pred_prob_train = model.predict_proba(df_train_treated[train_cols])"
   ]
  },
  {
   "cell_type": "code",
   "execution_count": 25,
   "metadata": {},
   "outputs": [
    {
     "data": {
      "text/plain": [
       "0.4606840664959794"
      ]
     },
     "execution_count": 25,
     "metadata": {},
     "output_type": "execute_result"
    }
   ],
   "source": [
    "log_loss(df_train_treated[target],y_pred_prob_train)"
   ]
  },
  {
   "cell_type": "code",
   "execution_count": 26,
   "metadata": {},
   "outputs": [],
   "source": [
    "test_preds = pd.DataFrame(model.predict_proba(df_test_treated[train_cols]))"
   ]
  },
  {
   "cell_type": "code",
   "execution_count": 27,
   "metadata": {},
   "outputs": [],
   "source": [
    "save_dataset(test_preds,name='BASE_MODEL_XGB')"
   ]
  }
 ],
 "metadata": {
  "kernelspec": {
   "display_name": "Python 3",
   "language": "python",
   "name": "python3"
  },
  "language_info": {
   "codemirror_mode": {
    "name": "ipython",
    "version": 3
   },
   "file_extension": ".py",
   "mimetype": "text/x-python",
   "name": "python",
   "nbconvert_exporter": "python",
   "pygments_lexer": "ipython3",
   "version": "3.7.6"
  }
 },
 "nbformat": 4,
 "nbformat_minor": 4
}
